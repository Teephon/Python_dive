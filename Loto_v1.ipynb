{
 "cells": [
  {
   "cell_type": "code",
   "execution_count": 1,
   "metadata": {},
   "outputs": [],
   "source": [
    "import random\n",
    "random.seed(version=2)\n",
    "import matplotlib.pyplot as plt\n",
    "import statistics\n",
    "\n",
    "# Вывод карты\n",
    "\n",
    "def printc(arr_2d):\n",
    "    for arr in arr_2d:\n",
    "        print(\"|\", end = '')\n",
    "        for el in arr:\n",
    "            if el == None:\n",
    "                print(\"  \", end = '|')\n",
    "                \n",
    "            elif el < 10: print(\" \" + str(el), end = \"|\")\n",
    "            else:\n",
    "                    print(str(el), end = '|') # end = '\\n' - новая строка по умолчанию\n",
    "        print()"
   ]
  },
  {
   "cell_type": "code",
   "execution_count": 2,
   "metadata": {},
   "outputs": [],
   "source": [
    "# Создаем карту со случайными неповторяющимися числами от 1 до 90\n",
    "\n",
    "def cr_card():\n",
    "\n",
    "    card = [[None]*9 for i in range(3)]\n",
    "    \n",
    "    num_set = [[1]*10 for f in range(9)]\n",
    "\n",
    "    k = 0\n",
    "    for i in range(9):\n",
    "        for j in range(10):\n",
    "            num_set[i][j]= k\n",
    "            k+=1\n",
    "\n",
    "    num_set[0].remove(0)\n",
    "    num_set[8].append(90)\n",
    "\n",
    "    for i in range(len(card)):\n",
    "\n",
    "        d = [g+1 for g in range(-1,8)]\n",
    "        for m in range(4):\n",
    "            d.remove(random.choice(d))\n",
    "\n",
    "        for j in d:\n",
    "            card[i][j]=random.choice(num_set[j])\n",
    "            num_set[j].remove(card[i][j])\n",
    "    \n",
    "    return card"
   ]
  },
  {
   "cell_type": "code",
   "execution_count": 8,
   "metadata": {},
   "outputs": [],
   "source": [
    "# Проверка на дубли в картах\n",
    "\n",
    "def doubles (card1, card2):\n",
    "    s = 0\n",
    "    for arr in card1:\n",
    "        for el in arr:\n",
    "            if el != None:\n",
    "                if el in card2[0] or el in card2[1] or el in card2[2]:\n",
    "                    s += 1\n",
    "    return s\n",
    "\n",
    "# print(\"\\n\" + \"Общих чисел: \" + str(s))"
   ]
  },
  {
   "cell_type": "code",
   "execution_count": 5,
   "metadata": {},
   "outputs": [],
   "source": [
    "# Игра по правилам \"одна карта заполнена - выигрыш\", играем партию\n",
    "def l_round (card_1, card_2):\n",
    "    \n",
    "    bag = []\n",
    "    for n in range(1, 91):\n",
    "        bag.append(n)\n",
    "    random.shuffle(bag) # Создали и перемешали мешок с бочонками\n",
    "    \n",
    "    e_card = [[None]*9 for i in range(3)]\n",
    "    \n",
    "    loto_r = 0  \n",
    "    for v in range(90):\n",
    "        w = bag.pop() # Вытаскиваем \"последний бочонок\" из мешка\n",
    "\n",
    "# Вывод каждого раунда\n",
    "#         print(loto_r, w)\n",
    "#         printc(card_1)\n",
    "#         print()\n",
    "#         printc(card_2)\n",
    "        \n",
    "        #Остановка цикла: сравниваем текущее состояние обеих карт с \"пустой\" картой\n",
    "        if card_1 == e_card or card_2 == e_card:\n",
    "            break\n",
    "        \n",
    "        loto_r += 1\n",
    "        \n",
    "        #Закрываем цифры в картах\n",
    "        for i in range(3):\n",
    "            for j in range(9):\n",
    "\n",
    "                if card_1[i][j] == w:\n",
    "                    card_1[i][j] = None\n",
    "\n",
    "                if card_2[i][j] == w:\n",
    "                    card_2[i][j] = None\n",
    "                \n",
    "    return loto_r         "
   ]
  },
  {
   "cell_type": "code",
   "execution_count": 18,
   "metadata": {},
   "outputs": [],
   "source": [
    "data = [[], []]\n",
    "fr = [[] for i in range(6)]\n",
    "\n",
    "for y in range(10000):\n",
    "    card1 = cr_card()\n",
    "    card2 = cr_card()\n",
    "\n",
    "#     printc(card1)\n",
    "#     print()\n",
    "#     printc(card2)\n",
    "    dbl = doubles(card1, card2)\n",
    "    rnds = l_round(card1, card2)\n",
    "        \n",
    "    data[0].append(dbl)\n",
    "    data[1].append(rnds)\n",
    "    \n",
    "    if dbl > 5:\n",
    "        fr.append([])\n",
    "    if dbl > 6:\n",
    "        fr.append([])\n",
    "        fr.append([])\n",
    "        fr.append([])    \n",
    "    \n",
    "    fr[dbl].append(rnds)\n",
    "# Получили данные range игр: последний ход(раунд) и количество дублей в картах"
   ]
  },
  {
   "cell_type": "code",
   "execution_count": 19,
   "metadata": {},
   "outputs": [
    {
     "data": {
      "image/png": "[encoded data removed]",
      "text/plain": [
       "<Figure size 432x288 with 1 Axes>"
      ]
     },
     "metadata": {
      "needs_background": "light"
     },
     "output_type": "display_data"
    }
   ],
   "source": [
    "# В визуализации данных пока не разбираюсь\n",
    "\n",
    "def scatterplot(x_data, y_data, x_label=\"\", y_label=\"\", title=\"\", color = \"b\", yscale_log=False):\n",
    "\n",
    "    # Create the plot object\n",
    "    _, ax = plt.subplots()\n",
    "\n",
    "    # Plot the data, set the size (s), color and transparency (alpha)\n",
    "    # of the points\n",
    "    ax.scatter(x_data, y_data, s = 40, color = color, alpha = 0.1)\n",
    "\n",
    "    if yscale_log == True:\n",
    "        ax.set_yscale('log')\n",
    "\n",
    "    # Label the axes and provide a title\n",
    "    ax.set_title(\"Количество игр: \" + str(len(data[1])))\n",
    "    ax.set_xlabel(\"дубли на паре карт\")\n",
    "    ax.set_ylabel(\"вынуто бочонков\")\n",
    "\n",
    "scatterplot(data[0],data[1])"
   ]
  },
  {
   "cell_type": "code",
   "execution_count": 20,
   "metadata": {},
   "outputs": [
    {
     "data": {
      "image/png": "[encoded data removed]",
      "text/plain": [
       "<Figure size 432x288 with 1 Axes>"
      ]
     },
     "metadata": {
      "needs_background": "light"
     },
     "output_type": "display_data"
    }
   ],
   "source": [
    "def lineplot(x_data, y_data, x_label=\"\", y_label=\"\", title=\"\"):\n",
    "    # Create the plot object\n",
    "    _, ax = plt.subplots()\n",
    "\n",
    "    # Plot the best fit line, set the linewidth (lw), color and\n",
    "    # transparency (alpha) of the line\n",
    "    ax.plot(x_data, y_data, lw = 2, color = '#539caf', alpha = 1)\n",
    "\n",
    "    # Label the axes and provide a title\n",
    "    ax.set_title(title)\n",
    "    ax.set_xlabel(x_label)\n",
    "    ax.set_ylabel(y_label)\n",
    "    \n",
    "stat = [[],[]]\n",
    "\n",
    "c = 0\n",
    "for i in fr:\n",
    "    if i == []:\n",
    "        continue\n",
    "    stat[0].append(c)\n",
    "    stat[1].append(statistics.mean(i))\n",
    "    c += 1\n",
    "    \n",
    "lineplot(stat[0],stat[1])"
   ]
  }
 ],
 "metadata": {
  "kernelspec": {
   "display_name": "Python 3",
   "language": "python",
   "name": "python3"
  },
  "language_info": {
   "codemirror_mode": {
    "name": "ipython",
    "version": 3
   },
   "file_extension": ".py",
   "mimetype": "text/x-python",
   "name": "python",
   "nbconvert_exporter": "python",
   "pygments_lexer": "ipython3",
   "version": "3.8.3"
  }
 },
 "nbformat": 4,
 "nbformat_minor": 4
}
